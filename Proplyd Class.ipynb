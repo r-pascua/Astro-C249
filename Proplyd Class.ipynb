{
 "cells": [
  {
   "cell_type": "code",
   "execution_count": 1,
   "metadata": {},
   "outputs": [],
   "source": [
    "import numpy as np\n",
    "import matplotlib.pyplot as plt\n",
    "from mpl_toolkits.mplot3d import Axes3D\n",
    "from matplotlib import animation as animation\n",
    "import scipy as sp\n",
    "import progressbar as pb\n",
    "import time\n",
    "\n",
    "%matplotlib inline"
   ]
  },
  {
   "cell_type": "code",
   "execution_count": 2,
   "metadata": {},
   "outputs": [],
   "source": [
    "class proplyd:\n",
    "    \"\"\"\n",
    "    The proplyd class acts as the environment that contains planetesimal\n",
    "    tracers, plant embryos, protoplanets, disk components, and the host\n",
    "    star. It contains references to the objects, methods to create new\n",
    "    objects, and methods to govern the interactions between objects.\n",
    "    \"\"\"\n",
    "    \n",
    "    def __init__(self, disks={}, tracers={}, embryos={}, age=0,\n",
    "                 extent=(0.1,100), mass=10, star_params={},\n",
    "                 disk_params={}, tracer_params={}, embryo_params={}):\n",
    "        self.disks = disks.copy()\n",
    "        self.tracers = tracers.copy()\n",
    "        self.history = {}\n",
    "        self.embryos = embryos.copy()\n",
    "        self.age = age\n",
    "        self.extent = extent\n",
    "        self.mass = mass\n",
    "        self.star = star_params.copy()\n",
    "#        self.disk_params = disk_params\n",
    "#        self.tracer_params = tracer_params\n",
    "#        self.embryo_params = embryo_params\n",
    "        \n",
    "        if len(disks) > 0:\n",
    "            for disk in self.disks.keys():\n",
    "                self.history[disk] = {}\n",
    "#                self.disk_params[disk] = {}\n",
    "                for param in self.disks[disk].keys():\n",
    "                    self.history[disk][param] = np.array([self.disks[disk][param]])\n",
    "#                    self.disk_params[disk][param] = disk_params[disk][params]\n",
    "                    \n",
    "        if len(tracers) > 0:\n",
    "            for tracer in self.tracers.keys():\n",
    "                self.history[tracer] = {}\n",
    "#                self.tracer_params[tracer] = {}\n",
    "                for param in self.tracers[tracer].keys():\n",
    "                    self.history[tracer][param] = np.array([self.tracers[tracer][param]])\n",
    "#                    self.tracer_params[tracer][param] = tracer_params[tracer][param]\n",
    "                    \n",
    "        if len(embryos) > 0:\n",
    "            for embryo in self.embryos.keys():\n",
    "                self.history[embryo] = {}\n",
    "#                self.embryo_params[embryo] = {}\n",
    "                for param in self.embryos[embryo].keys():\n",
    "                    self.history[embryo][param] = np.array([self.embryos[embryo][param]])\n",
    "#                    self.embryo_params[embryo][param] = embryo_params[embryo][param]\n",
    "        \n",
    "    def update_history(self):\n",
    "        tracerkeys = np.array(list(self.tracers.keys()))\n",
    "        embryokeys = np.array(list(self.embryos.keys()))\n",
    "        historykeys = np.array(list(self.history.keys()))\n",
    "        \n",
    "        oldTracers = tracerkeys[np.where(np.isin(tracerkeys,historykeys))]\n",
    "        oldEmbryos = embryokeys[np.where(np.isin(embryokeys,historykeys))]\n",
    "        \n",
    "        newTracers = False\n",
    "        newEmbryos = False\n",
    "        \n",
    "        if len(tracerkeys)>0:\n",
    "            newTracers = not np.isin(tracerkeys,historykeys).all()\n",
    "            \n",
    "        if len(embryokeys)>0:\n",
    "            newEmbryos = not np.isin(embryokeys,historykeys).all()\n",
    "        \n",
    "        if newTracers:\n",
    "            newTracerKey = np.where(np.isin(tracerkeys,historykeys,invert=True))\n",
    "            for tracer in tracerkeys[newTracerKey]:\n",
    "                self.history[tracer] = {}\n",
    "                for param in self.tracers[tracer].keys():\n",
    "                    self.history[tracer][param] = np.array([self.tracers[tracer][param]])\n",
    "                    \n",
    "        if newEmbryos:\n",
    "            newEmbryoKey = np.where(np.isin(embryokeys,historykeys,invert=True))\n",
    "            for embryo in embryokeys[newEmbryoKey]:\n",
    "                self.history[embryo] = {}\n",
    "                for param in self.embryos[embryo].keys():\n",
    "                    self.history[embryo][param] = np.array([self.embryos[embryo][param]])\n",
    "                    \n",
    "        for tracer in oldTracers:\n",
    "            for param in self.tracers[tracer].keys():\n",
    "                self.history[tracer][param] = np.append(self.history[tracer][param],\n",
    "                                                        np.array([self.tracers[tracer][param]]),\n",
    "                                                        axis=0)\n",
    "                \n",
    "        for embryo in oldEmbryos:\n",
    "            for param in self.embryos[embryo].keys():\n",
    "                self.history[embryo][param] = np.append(self.history[embryo][param],\n",
    "                                                        np.array([self.embryos[embryo][param]]),\n",
    "                                                        axis=0)\n",
    "    \n",
    "    def update_age(self,dt):\n",
    "        self.age += dt\n",
    "        \n",
    "    def self_interaction(self,tracer,*args):\n",
    "        # method for self-interaction of planetesimal tracers\n",
    "        # tracers MUST have sufficient parameters for computing coagulation\n",
    "        # THIS WILL NOT WORK IF TRACERS ONLY HAVE R,V DATA\n",
    "        pass\n",
    "    \n",
    "    def get_embryo_params(self,param):\n",
    "        params = []\n",
    "        for embryo in self.embryos.keys():\n",
    "            params.append(self.embryos[embryo][param])\n",
    "        return np.array(params)\n",
    "    \n",
    "    def get_tracer_params(self,param):\n",
    "        params = []\n",
    "        for tracer in self.tracers.keys():\n",
    "            params.append(self.tracers[tracer][param])\n",
    "        return np.array(params)"
   ]
  },
  {
   "cell_type": "code",
   "execution_count": null,
   "metadata": {},
   "outputs": [],
   "source": []
  },
  {
   "cell_type": "code",
   "execution_count": 3,
   "metadata": {},
   "outputs": [],
   "source": [
    "def leapfrog(ri,vi,rj,mj,dt,mstar=1):\n",
    "    G = 6.67e-11\n",
    "    Mstar = mstar*2e30\n",
    "    r0 = ri.copy()\n",
    "    v0 = vi.copy()\n",
    "    r1 = r0 + 0.5*v0*dt\n",
    "    dr = rj-r1\n",
    "    v1 = v0 + (G*np.dot(mj*np.diag(1/np.linalg.norm(dr,axis=1)**3),dr)*dt).sum(axis=0) - G*Mstar*r1*dt/(np.linalg.norm(r1)**3)\n",
    "    return r1 + 0.5*v1*dt, v1"
   ]
  },
  {
   "cell_type": "code",
   "execution_count": 4,
   "metadata": {},
   "outputs": [],
   "source": [
    " def initialize(N,Mstar=1,theta=None,return_params=False):\n",
    "    \"\"\"\n",
    "    Initializes positions and velocities for N objects in Keplerian orbits about\n",
    "    a star of mass Mstar.\n",
    "    \n",
    "    N is the number of objects to generate initial conditions for. initialize()\n",
    "    returns the initial conditions as a Nx3x2 array.\n",
    "    Mstar is the mass of the star, measured in solar masses\n",
    "    theta is an array of parameters listing the bounds for parameter values.\n",
    "    \n",
    "    Parameters are drawn from uniform distributions bounded by the values in theta,\n",
    "    or by a set of default parameters if none are provided. theta should be ordered\n",
    "    as follows:\n",
    "    amin, amax, imin, imax, emin, emax, wmin, wmax, fmin, fmax, Omin, Omax;\n",
    "    an orbit is characterized by its semi-major axis, inclination, eccentricity,\n",
    "    argument of periapse, initial true anomaly, and longitude of the ascending node.\n",
    "    \n",
    "    semi-major axis values should be given in au\n",
    "    orientation angles should be given in radians\n",
    "    eccentricities should be on [0,1)\n",
    "    true anomaly bounds should be given in radians\n",
    "    mass bounds should be given in Earth masses\n",
    "    \n",
    "    Positions are returned in meters\n",
    "    Velocities are returned in meters per second\n",
    "    \"\"\"\n",
    "    \n",
    "    if theta is None:\n",
    "        amin = 0.1\n",
    "        amax = 20\n",
    "        \n",
    "        imin = np.radians(-15)\n",
    "        imax = np.radians(15)\n",
    "        \n",
    "        emin = 0\n",
    "        emax = 0.2\n",
    "        \n",
    "        wmin = 0\n",
    "        wmax = 2*np.pi*(1-0.001)\n",
    "        \n",
    "        fmin = 0\n",
    "        fmax = 2*np.pi*(1-0.001)\n",
    "        \n",
    "        Omin = 0\n",
    "        Omax = 2*np.pi*(1-0.001)\n",
    "        \n",
    "        mmin = -1\n",
    "        mmax = 2\n",
    "        \n",
    "        rhomin = 1e3\n",
    "        rhomax = 6e3\n",
    "    else:\n",
    "        amin, amax, imin, imax, emin, emax, wmin, wmax, fmin, fmax, Omin, Omax, mmin, mmax, rhomin, rhomax = theta\n",
    "        \n",
    "    G = 6.67e-11 # SI units\n",
    "    Msun = 2e30 # kg\n",
    "    Mstar *= Msun\n",
    "    AU = 1.496e11\n",
    "    Mearth = 5.972e24\n",
    "    \n",
    "    avals = 10**np.random.uniform(amin,amax,N)*AU\n",
    "    ivals = np.random.uniform(imin,imax,N)\n",
    "    evals = np.random.uniform(emin,emax,N)\n",
    "    wvals = np.random.uniform(wmin,wmax,N)\n",
    "    fvals = np.random.uniform(fmin,fmax,N)\n",
    "    Ovals = np.random.uniform(Omin,Omax,N)\n",
    "    mvals = 10**np.random.uniform(mmin,mmax,N)*Mearth\n",
    "    rhovals = np.random.uniform(rhomin,rhomax,N)\n",
    "    \n",
    "    rvals = avals*(1-evals**2)/(1+evals*np.cos(fvals))\n",
    "    prefactors = rvals*np.sqrt(G*(Mstar+mvals)*(2/rvals - 1/avals))/(avals*(1-evals**2))\n",
    "    \n",
    "    initial_values = np.zeros((N,3,2))\n",
    "    \n",
    "    initial_values[:,0,0] = rvals*(np.cos(Ovals)*np.cos(wvals+fvals)-np.sin(Ovals)*np.sin(wvals+fvals)*np.cos(ivals))\n",
    "    initial_values[:,1,0] = rvals*(np.sin(Ovals)*np.cos(wvals+fvals)+np.cos(Ovals)*np.sin(wvals+fvals)*np.cos(ivals))\n",
    "    initial_values[:,2,0] = rvals*np.sin(wvals+fvals)*np.sin(ivals)\n",
    "    \n",
    "    initial_values[:,0,1] = -prefactors*(np.cos(Ovals)*(np.sin(wvals+fvals)+evals*np.sin(wvals))\n",
    "                                        +np.sin(Ovals)*(np.cos(wvals+fvals)+evals*np.cos(wvals))*np.cos(ivals))\n",
    "    initial_values[:,1,1] = prefactors*(-np.cos(Ovals)*(np.sin(wvals+fvals)+evals*np.sin(wvals))\n",
    "                                       +np.cos(Ovals)*(np.cos(wvals+fvals)+evals*np.cos(wvals))*np.cos(ivals))\n",
    "    initial_values[:,2,1] = prefactors*(np.cos(wvals+fvals)+evals*np.cos(wvals))*np.sin(ivals)\n",
    "    \n",
    "    initial_values = initial_values[np.argsort(avals),:,:]\n",
    "    \n",
    "    if return_params:\n",
    "        params = np.vstack([avals,ivals,evals,wvals,fvals,Ovals,mvals,rhovals]).T[np.argsort(avals)]\n",
    "        return initial_values, params\n",
    "    else:\n",
    "        return initial_values"
   ]
  },
  {
   "cell_type": "code",
   "execution_count": 41,
   "metadata": {},
   "outputs": [],
   "source": [
    "def process_accretion(embryo,tracer,tracerID,dt,df,di):\n",
    "    if tracer['Np'] == 0:\n",
    "        pass\n",
    "    else:\n",
    "        Re = embryo['radius']\n",
    "        Me = embryo['mass']\n",
    "        vesc = np.sqrt(2*G*Me/Re)\n",
    "        \n",
    "        key = np.where(np.isin(tracerID,tracerkeys))[0]\n",
    "        Rp = tracer_radii[key][0]\n",
    "        Np = tracer['Np']\n",
    "        r = params[key,0][0]\n",
    "        cosi = np.linalg.norm(tracer['pos'][:2])/np.linalg.norm(tracer['pos'])\n",
    "        dV = 0.001*r**3*cosi*np.radians(df)*np.radians(di)\n",
    "        m = params[key,-1][0]*4*np.pi*Rp**3/3\n",
    "        \n",
    "        vrel = np.linalg.norm(embryo['vel']-tracer['vel'])\n",
    "        Fgrav = 1 + (vesc/vrel)**2\n",
    "        Ncol = np.floor(np.pi*(Re+Rp)**2*Np*vrel*Fgrav*dt/dV)\n",
    "        \n",
    "        if tracer['Np'] - Ncol <= 0 or tracer['mass'] - m*Ncol <= 0:\n",
    "            embryo['radius'] *= (1+Np*m/embryo['mass'])**(1/3)\n",
    "            embryo['mass'] += Np*m\n",
    "            embryo['density'] = 3*embryo['mass']/(4*np.pi*embryo['radius']**3)\n",
    "            tracer['Np'] = 0\n",
    "            tracer['mass'] = 0\n",
    "            tracer['pos'] = np.zeros(3)\n",
    "            tracer['vel'] = np.zeros(3)\n",
    "        else:\n",
    "            embryo['radius'] *= (1+Ncol*m/embryo['mass'])**(1/3)\n",
    "            embryo['mass'] += Ncol*m\n",
    "            embryo['density'] = 3*embryo['mass']/(4*np.pi*embryo['radius']**3)\n",
    "            tracer['mass'] = tracer['mass'] - m*Ncol\n",
    "            tracer['Np'] = Np-Ncol\n",
    "\n",
    "\n",
    "\n",
    "#    return {'Re':Re, 'Me':Me, 'vesc':vesc, 'Rp':Rp, 'Np':Np, 'r':r, 'cosi':cosi, 'dV':dV}\n",
    "#    return Ncol"
   ]
  },
  {
   "cell_type": "code",
   "execution_count": 13,
   "metadata": {},
   "outputs": [],
   "source": [
    "# Instantiate proplyd object\n",
    "system = proplyd()\n",
    "\n",
    "# Populate proplyd with Np planetesimal tracers and Ne embryos\n",
    "Np = 200\n",
    "Mstar = 1\n",
    "theta = [0,1,\n",
    "         np.radians(-5),np.radians(5),\n",
    "         0,0.05,\n",
    "         0,2*np.pi*0.99,\n",
    "         0,2*np.pi*0.99,\n",
    "         0,2*np.pi*0.99,\n",
    "         -3,-2,\n",
    "         3e3,8e3]\n",
    "initial_vals, params = initialize(Np,theta=theta,return_params=True)\n",
    "\n",
    "\n",
    "Ne = 5\n",
    "thetap = [0,1,\n",
    "         np.radians(-5),np.radians(5),\n",
    "         0,0.05,\n",
    "         0,2*np.pi*0.99,\n",
    "         0,2*np.pi*0.99,\n",
    "         0,2*np.pi*0.99,\n",
    "         -1.5,-1,\n",
    "         3e3,6e3]\n",
    "embryos, embryo_params = initialize(Ne,theta=thetap,return_params=True)\n",
    "\n",
    "system.star = {'mass':Mstar}\n",
    "tracer_radii = 10**np.random.uniform(3,4.5,Np)\n",
    "df = 0.2\n",
    "di = 0.1\n",
    "\n",
    "for i in range(Np):\n",
    "    tracer = 'tracer{:d}'.format(i)\n",
    "    system.tracers[tracer] = {}\n",
    "    system.tracers[tracer]['pos'] = initial_vals[i,:,0]\n",
    "    system.tracers[tracer]['vel'] = initial_vals[i,:,1]\n",
    "    system.tracers[tracer]['mass'] = params[i,-2]\n",
    "#    system.tracers[tracer]['density'] = params[i,-1]\n",
    "#    system.tracers[tracer]['radii'] = tracer_radii[i]\n",
    "#    system.tracers[tracer]['Reff'] = 0.5*params[i,0]*np.radians(df)\n",
    "    system.tracers[tracer]['Np'] = np.floor(3*params[i,-2]/(4*np.pi*params[i,-1]*tracer_radii[i]**3))\n",
    "    \n",
    "for i in range(Ne):\n",
    "    embryo = 'embryo{:d}'.format(i)\n",
    "    system.embryos[embryo] = {}\n",
    "    system.embryos[embryo]['pos'] = embryos[i,:,0]\n",
    "    system.embryos[embryo]['vel'] = embryos[i,:,1]\n",
    "    system.embryos[embryo]['mass'] = embryo_params[i,-2]\n",
    "    system.embryos[embryo]['density'] = embryo_params[i,-1]\n",
    "    system.embryos[embryo]['radius'] = (3*embryo_params[i,-2]/(4*np.pi*embryo_params[i,-1]))**(1/3)\n",
    "    \n",
    "system.update_history()"
   ]
  },
  {
   "cell_type": "code",
   "execution_count": 14,
   "metadata": {},
   "outputs": [],
   "source": [
    "f = 1\n",
    "dt = 24*3600*f\n",
    "T = 100*3.154e7 # s\n",
    "t = 0\n",
    "\n",
    "tcol = []\n",
    "tvals = [0]\n",
    "#errors = [0]\n",
    "collisions = []\n",
    "\n",
    "G = 6.67e-11 # grav constant, SI units\n",
    "Msun = 2e30\n",
    "\n",
    "\n",
    "#E0 = 0.5*(masses*np.linalg.norm(velocities,axis=1)**2).sum() \n",
    "#E0 -= G*Mstar*Msun*(masses/np.linalg.norm(positions[0],axis=1)).sum()\n",
    "#for i in range(N-1):\n",
    "#    for j in range(i+1,N):\n",
    "#        E0 -= G*masses[i]*masses[j]/np.linalg.norm(positions[0,i]-positions[0,j])"
   ]
  },
  {
   "cell_type": "code",
   "execution_count": 15,
   "metadata": {},
   "outputs": [
    {
     "name": "stderr",
     "output_type": "stream",
     "text": [
      " 99% (3153945600 of 3154000000.0) |##### | Elapsed Time: 4:15:24 ETA:   0:00:00"
     ]
    }
   ],
   "source": [
    "bar = pb.ProgressBar(max_value=T)\n",
    "bar.start(max_value=T)\n",
    "#eject_key = [[]]\n",
    "\n",
    "while t < T:\n",
    "    tracerkeys = np.array(list(system.tracers.keys()))\n",
    "    embryokeys = np.array(list(system.embryos.keys()))\n",
    "    positions = np.zeros((len(tracerkeys)+len(embryokeys),3))\n",
    "    velocities = np.zeros((len(tracerkeys)+len(embryokeys),3))\n",
    "    masses = np.zeros(len(tracerkeys)+len(embryokeys))\n",
    "    separations = np.zeros((len(embryokeys),len(tracerkeys)))\n",
    "    N = len(tracerkeys)\n",
    "    M = len(embryokeys)\n",
    "    \n",
    "    for i in range(positions.shape[0]):\n",
    "        if i < N:\n",
    "            tracer = tracerkeys[i]\n",
    "            positions[i] = system.tracers[tracer]['pos']\n",
    "            velocities[i] = system.tracers[tracer]['vel']\n",
    "            masses[i] = system.tracers[tracer]['mass']\n",
    "        else:\n",
    "            embryo = embryokeys[i-N]\n",
    "            positions[i] = system.embryos[embryo]['pos']\n",
    "            velocities[i] = system.embryos[embryo]['vel']\n",
    "            masses[i] = system.embryos[embryo]['mass']\n",
    "            for j in range(N):\n",
    "                Reff = params[j,0]*df*0.5\n",
    "                separations[i-N,j] = np.floor(np.linalg.norm(positions[i]-positions[j])/Reff)\n",
    "            \n",
    "    for i in range(positions.shape[0]):\n",
    "        key = np.where(np.isin(np.arange(positions.shape[0]),i,invert=True))\n",
    "        if i < N:\n",
    "            tracer = tracerkeys[i]\n",
    "            system.tracers[tracer]['pos'], system.tracers[tracer]['vel'] = leapfrog(positions[i], velocities[i],\n",
    "                                                                                    positions[key,:], masses[key],\n",
    "                                                                                    dt, Mstar)\n",
    "        else:\n",
    "            embryo = embryokeys[i-N]\n",
    "            system.embryos[embryo]['pos'], system.embryos[embryo]['vel'] = leapfrog(positions[i], velocities[i],\n",
    "                                                                                    positions[key,:], masses[key],\n",
    "                                                                                    dt, Mstar)\n",
    "            if np.isin(separations[i-N],0).any():\n",
    "                tcol.append(t)\n",
    "                collision_key = np.where(np.isin(separations[i-N],0))\n",
    "                for j in collision_key[0]:\n",
    "                    tracer = tracerkeys[j]\n",
    "                    process_accretion(system.embryos[embryo],\n",
    "                                      system.tracers[tracer],\n",
    "                                      tracer,dt,df,di)\n",
    "                    collisions.append([i-Np,j])\n",
    "\n",
    "    bar.update(t)\n",
    "    t += dt\n",
    "    tvals.append(t)\n",
    "    system.update_history()\n",
    "    system.update_age(dt)"
   ]
  },
  {
   "cell_type": "code",
   "execution_count": 372,
   "metadata": {},
   "outputs": [],
   "source": [
    "colkey = np.where(np.isin(tvals,tcol))[0]\n",
    "Np = 100\n",
    "ncol = []\n",
    "Fb = 3\n",
    "dv = []\n",
    "cos = []\n",
    "Nvals = []\n",
    "for i in range(len(colkey)):\n",
    "    embryoID = embryokeys[collisions[i][0]]\n",
    "    tracerID = tracerkeys[collisions[i][1]]\n",
    "    timeID = colkey[i]\n",
    "    embryo = system.history[embryoID]\n",
    "    tracer = system.history[tracerID]\n",
    "    Re = embryo['radius'][timeID]\n",
    "    Me = embryo['mass'][timeID]\n",
    "    vesc = np.sqrt(2*G*Me/Re)\n",
    "    \n",
    "    Rp = tracer['radii'][timeID]\n",
    "    N = tracer['Np'][timeID]\n",
    "    r = params[np.where(np.isin(tracerID,tracerkeys))[0],0][0]\n",
    "    cosi = np.linalg.norm(tracer['pos'][timeID][:2])/r\n",
    "    dV = 0.001*r**3*cosi*np.radians(df)*np.radians(di)\n",
    "    m = tracer['density'][timeID]*4*np.pi*Rp**3/3\n",
    "    \n",
    "    vrel = np.linalg.norm(embryo['vel'][timeID]-tracer['vel'][timeID])\n",
    "    Fgrav = 1 + (vesc/vrel)**2\n",
    "    Ncol = np.floor(np.pi*(Re+Rp)**2*N*vrel*Fgrav*Fb*dt/dV)\n",
    "    ncol.append(Ncol)\n",
    "    dv.append(dV)\n",
    "    cos.append(cosi)\n",
    "    Nvals.append(N)"
   ]
  },
  {
   "cell_type": "code",
   "execution_count": 380,
   "metadata": {},
   "outputs": [
    {
     "data": {
      "image/png": "[encoded data removed]",
      "text/plain": [
       "<Figure size 432x288 with 1 Axes>"
      ]
     },
     "metadata": {},
     "output_type": "display_data"
    }
   ],
   "source": [
    "#plt.scatter(range(len(colkey)),np.log10(1+np.array(ncol)),color='darkred',alpha=0.7)\n",
    "plt.scatter(range(len(colkey)),np.log10(1+np.array(Nvals)),color='darkorange',alpha=0.7)\n",
    "plt.scatter(range(len(colkey)),np.log10(1+np.array(Nvals)-np.array(ncol)),color='dodgerblue',alpha=0.7)\n",
    "plt.show()"
   ]
  },
  {
   "cell_type": "code",
   "execution_count": 370,
   "metadata": {},
   "outputs": [
    {
     "data": {
      "text/plain": [
       "791"
      ]
     },
     "execution_count": 370,
     "metadata": {},
     "output_type": "execute_result"
    }
   ],
   "source": [
    "len(ncol)"
   ]
  },
  {
   "cell_type": "code",
   "execution_count": 76,
   "metadata": {},
   "outputs": [
    {
     "data": {
      "image/png": "[encoded data removed]",
      "text/plain": [
       "<Figure size 648x432 with 1 Axes>"
      ]
     },
     "metadata": {},
     "output_type": "display_data"
    }
   ],
   "source": [
    "fig = plt.figure(figsize=(9,6))\n",
    "ax = fig.add_subplot(1,1,1)\n",
    "ax.set_xlabel('Time [years]', fontsize=12)\n",
    "ax.set_ylabel(r'Embryo Mass [M$_\\oplus$]', fontsize=12)\n",
    "\n",
    "for i in range(len(embryokeys[:])):\n",
    "    embryo = embryokeys[i]\n",
    "    ax.semilogy(np.array(tvals)/(365*24*3600),system.history[embryo]['mass']/5.927e24,alpha=0.7,label='Embryo {:d}'.format(i+1))\n",
    "#    ax.semilogy(np.array(tvals)/(365*24*3600),system.history[embryo]['radius']/6e6,alpha=0.7,label='Embryo {:d}'.format(i+1))\n",
    "#    ax.plot(np.array(tvals)/(365*24*3600),system.history[embryo]['density']/5.51e3,alpha=0.7,label='Embryo {:d}'.format(i+1))\n",
    "    \n",
    "ax.legend(ncol=2)\n",
    "plt.show()\n",
    "fig.savefig('Planet-Mass-Growth-200tracer.pdf')"
   ]
  },
  {
   "cell_type": "code",
   "execution_count": 52,
   "metadata": {},
   "outputs": [
    {
     "data": {
      "image/png": "[encoded data removed]",
      "text/plain": [
       "<Figure size 432x288 with 1 Axes>"
      ]
     },
     "metadata": {},
     "output_type": "display_data"
    }
   ],
   "source": [
    "#plt.plot(tvals,tracer_masses[4])\n",
    "plt.plot(tvals,tracer_Np[4])\n",
    "plt.show()"
   ]
  },
  {
   "cell_type": "code",
   "execution_count": 47,
   "metadata": {},
   "outputs": [
    {
     "data": {
      "text/plain": [
       "(array([  3,   4,   5,   8,  10,  15,  18,  20,  24,  25,  28,  30,  32,\n",
       "         40,  42,  43,  44,  47,  51,  52,  55,  56,  57,  58,  59,  62,\n",
       "         63,  65,  70,  71,  73,  78,  79,  86,  89,  91,  92,  93,  98,\n",
       "        101, 102, 104, 106, 107, 111, 119, 121, 126, 127, 130, 135, 143,\n",
       "        144, 145, 148, 150, 162, 163, 167, 169, 175, 176, 177, 180, 189,\n",
       "        192], dtype=int64),)"
      ]
     },
     "execution_count": 47,
     "metadata": {},
     "output_type": "execute_result"
    }
   ],
   "source": [
    "np.where(tracer_masses[:,-1]<0)"
   ]
  },
  {
   "cell_type": "code",
   "execution_count": 72,
   "metadata": {},
   "outputs": [
    {
     "data": {
      "text/plain": [
       "1387"
      ]
     },
     "execution_count": 72,
     "metadata": {},
     "output_type": "execute_result"
    }
   ],
   "source": [
    "mp = tracer_densities*4*np.pi*tracer_radii**3/3\n",
    "Mtot = np.zeros((len(mp),len(tracer_Np[0])))\n",
    "for i in range(Mtot.shape[0]):\n",
    "    Mtot[i] = mp[i]*tracer_Np[i]\n",
    "\n",
    "dM = np.zeros(Mtot.shape)\n",
    "for i in range(dM.shape[0]):\n",
    "    dM[i] = Mtot[i]-tracer_masses[i]\n",
    "    \n",
    "len(dM[np.where(np.abs(dM)<1e12)])"
   ]
  },
  {
   "cell_type": "code",
   "execution_count": 37,
   "metadata": {},
   "outputs": [
    {
     "data": {
      "image/png": "[encoded data removed]",
      "text/plain": [
       "<Figure size 432x288 with 1 Axes>"
      ]
     },
     "metadata": {},
     "output_type": "display_data"
    }
   ],
   "source": [
    "plt.plot(tvals,np.log10(1+system.history['tracer14']['mass']))\n",
    "plt.show()"
   ]
  },
  {
   "cell_type": "code",
   "execution_count": 20,
   "metadata": {},
   "outputs": [
    {
     "data": {
      "image/png": "[encoded data removed]",
      "text/plain": [
       "<Figure size 648x432 with 1 Axes>"
      ]
     },
     "metadata": {},
     "output_type": "display_data"
    }
   ],
   "source": [
    "#k = int(np.floor(system.history['embryo0']['mass'].shape[0]/50))\n",
    "fig = plt.figure(figsize=(9,6))\n",
    "ax = fig.add_subplot(1,1,1)\n",
    "ax.set_xlabel('y-position [au]', fontsize=12)\n",
    "ax.set_ylabel('z-position [au]', fontsize=12)\n",
    "ax.set_xlim(-25,25)\n",
    "ax.set_ylim(-5,5)\n",
    "\n",
    "tracers = system.tracers.keys()\n",
    "embryos = system.embryos.keys()\n",
    "\n",
    "for tracer in tracers:\n",
    "    ax.plot(system.history[tracer]['pos'][:,1]/1.5e11,system.history[tracer]['pos'][:,2]/1.5e11,alpha=0.25)\n",
    "for embryo in embryos:\n",
    "    ax.plot(system.history[embryo]['pos'][:,1]/1.5e11,system.history[embryo]['pos'][:,2]/1.5e11,alpha=1,label=embryo)\n",
    "\n",
    "ax.plot(0,0,marker='*',ms=4,color='k')\n",
    "ax.legend()\n",
    "plt.show()\n",
    "fig.savefig('200body-5embryo-100-yr-yz.pdf')"
   ]
  },
  {
   "cell_type": "code",
   "execution_count": 456,
   "metadata": {},
   "outputs": [
    {
     "data": {
      "text/plain": [
       "array([10.05487625])"
      ]
     },
     "execution_count": 456,
     "metadata": {},
     "output_type": "execute_result"
    }
   ],
   "source": [
    "distances = np.linalg.norm(system.history['embryo3']['pos'],axis=1)\n",
    "key = np.where(distances==distances.min())\n",
    "distances[key]/695.7e6"
   ]
  },
  {
   "cell_type": "code",
   "execution_count": 473,
   "metadata": {},
   "outputs": [
    {
     "data": {
      "text/plain": [
       "47858006.100099064"
      ]
     },
     "execution_count": 473,
     "metadata": {},
     "output_type": "execute_result"
    }
   ],
   "source": [
    "distance = np.linalg.norm(system.history['embryo3']['pos'][int(k/2)]-system.history['embryo3']['pos'][k])\n",
    "dt = tvals[k]-tvals[int(k/2)]\n",
    "((distance-d2)*1.5e11/dt)/3e8"
   ]
  },
  {
   "cell_type": "code",
   "execution_count": 11,
   "metadata": {},
   "outputs": [],
   "source": [
    "tvals = np.array(tvals)"
   ]
  },
  {
   "cell_type": "code",
   "execution_count": 45,
   "metadata": {},
   "outputs": [],
   "source": [
    "tracer_positions = np.zeros((len(system.tracers),len(system.history['tracer0']['pos'][:,0]),3))\n",
    "tracer_velocities = np.zeros((len(system.tracers),len(system.history['tracer0']['vel'][:,0]),3))\n",
    "tracer_masses = np.zeros((len(system.tracers),len(system.history['tracer0']['mass'])))\n",
    "tracer_Np = np.zeros((len(system.tracers),len(system.history['tracer0']['Np'])))\n",
    "tracer_densities = np.zeros((len(system.tracers)))\n",
    "#tracer_radii = np.zeros((len(system.tracers)))\n",
    "tracer_Reff = np.zeros((len(system.tracers)))\n",
    "\n",
    "embryo_positions = np.zeros((len(system.embryos),len(system.history['embryo0']['pos'][:,0]),3))\n",
    "embryo_velocities = np.zeros((len(system.embryos),len(system.history['embryo0']['vel'][:,0]),3))\n",
    "embryo_masses = np.zeros((len(system.embryos),len(system.history['embryo0']['mass'])))\n",
    "embryo_radii = np.zeros((len(system.embryos),len(system.history['embryo0']['radius'])))\n",
    "embryo_densities = np.zeros((len(system.embryos),len(system.history['embryo0']['density'])))\n",
    "\n",
    "\n",
    "tracerkeys = np.array(list(system.tracers.keys()))\n",
    "embryokeys = np.array(list(system.embryos.keys()))\n",
    "\n",
    "for i in range(len(tracerkeys)+len(embryokeys)):\n",
    "    if i < len(tracerkeys):\n",
    "        tracer = tracerkeys[i]\n",
    "        tracer_positions[i] = system.history[tracer]['pos']\n",
    "        tracer_velocities[i] = system.history[tracer]['vel']\n",
    "        tracer_masses[i] = system.history[tracer]['mass']\n",
    "        tracer_Np[i] = system.history[tracer]['Np']\n",
    "        tracer_densities[i] = params[i,-1]\n",
    "        tracer_Reff[i] = 0.5*params[i,0]*df\n",
    "    else:\n",
    "        j = i-len(tracerkeys)\n",
    "        embryo = embryokeys[j]\n",
    "        embryo_positions[j] = system.history[embryo]['pos']\n",
    "        embryo_velocities[j] = system.history[embryo]['vel']\n",
    "        embryo_masses[j] = system.history[embryo]['mass']\n",
    "        embryo_radii[j] = system.history[embryo]['radius']\n",
    "        embryo_densities[j] = system.history[embryo]['density']"
   ]
  },
  {
   "cell_type": "code",
   "execution_count": 46,
   "metadata": {},
   "outputs": [],
   "source": [
    "np.savez('100yr-200tracer-5embryo.npz',tracer_positions,tracer_velocities,tracer_masses,tracer_Np,\n",
    "         tracer_densities,tracer_radii,tracer_Reff,embryo_positions,embryo_velocities,\n",
    "         embryo_masses,embryo_densities,embryo_radii,tvals)"
   ]
  },
  {
   "cell_type": "code",
   "execution_count": 152,
   "metadata": {},
   "outputs": [],
   "source": [
    "tracer_masses = system.get_tracer_params('mass')\n",
    "tracer_densities = system.get_tracer_params('density')\n",
    "\n",
    "n = 3*tracer_masses/(4*np.pi*tracer_densities*tracer_radii**3)"
   ]
  },
  {
   "cell_type": "code",
   "execution_count": 154,
   "metadata": {},
   "outputs": [
    {
     "data": {
      "text/plain": [
       "79273087.19681044"
      ]
     },
     "execution_count": 154,
     "metadata": {},
     "output_type": "execute_result"
    }
   ],
   "source": [
    "n.max()"
   ]
  },
  {
   "cell_type": "code",
   "execution_count": 136,
   "metadata": {},
   "outputs": [
    {
     "data": {
      "image/png": "[encoded data removed]",
      "text/plain": [
       "<Figure size 432x288 with 1 Axes>"
      ]
     },
     "metadata": {},
     "output_type": "display_data"
    }
   ],
   "source": [
    "plt.scatter(range(N),np.log10(n))\n",
    "plt.show()"
   ]
  },
  {
   "cell_type": "code",
   "execution_count": null,
   "metadata": {},
   "outputs": [],
   "source": []
  },
  {
   "cell_type": "code",
   "execution_count": null,
   "metadata": {},
   "outputs": [],
   "source": [
    "fig = plt.figure(figsize=(9,12))\n",
    "ax = fig.add_subplot(1,1,1)\n",
    "ax.set_xlabel('Time [years]', fontsize=12)\n",
    "ax.set_ylabel('Relative Distances', fontsize=12)\n",
    "\n",
    "colors = [plt.cm.gist_earth(i) for i in 50*np.arange(5)]\n",
    "embryokeys = list(system.embryos.keys())\n",
    "tracerkeys = list(system.tracers.keys())\n",
    "\n",
    "for i in range(len(colors)):\n",
    "    embryo = embryokeys[i]\n",
    "    "
   ]
  },
  {
   "cell_type": "code",
   "execution_count": 99,
   "metadata": {},
   "outputs": [],
   "source": [
    "radii = np.linalg.norm(tracer_positions[:,-1,:],axis=1)\n",
    "inclinations = np.linalg.norm(tracer_positions[:,-1,:2],axis=1)\n",
    "dr = 10*6.371e6\n",
    "\n",
    "dv = radii**2*dr*inclinations*np.radians(1)**2\n",
    "reff = radii*np.radians(1)"
   ]
  },
  {
   "cell_type": "code",
   "execution_count": 111,
   "metadata": {},
   "outputs": [
    {
     "data": {
      "text/plain": [
       "0.16121505099531025"
      ]
     },
     "execution_count": 111,
     "metadata": {},
     "output_type": "execute_result"
    }
   ],
   "source": [
    "radii.min()/1.5e11"
   ]
  },
  {
   "cell_type": "code",
   "execution_count": 158,
   "metadata": {},
   "outputs": [
    {
     "data": {
      "text/plain": [
       "68364440.0"
      ]
     },
     "execution_count": 158,
     "metadata": {},
     "output_type": "execute_result"
    }
   ],
   "source": [
    "system.get_tracer_params('Np').max()"
   ]
  },
  {
   "cell_type": "code",
   "execution_count": 106,
   "metadata": {},
   "outputs": [
    {
     "name": "stdout",
     "output_type": "stream",
     "text": [
      "5.000000e+15\n"
     ]
    }
   ],
   "source": [
    "print('{:e}'.format(5e3*1e12))"
   ]
  },
  {
   "cell_type": "code",
   "execution_count": 131,
   "metadata": {},
   "outputs": [
    {
     "data": {
      "text/plain": [
       "1.2793534544152965"
      ]
     },
     "execution_count": 131,
     "metadata": {},
     "output_type": "execute_result"
    }
   ],
   "source": [
    "radii[np.where(reff/1.5e11>0.01)].min()/1.5e11"
   ]
  },
  {
   "cell_type": "code",
   "execution_count": 132,
   "metadata": {},
   "outputs": [
    {
     "data": {
      "text/plain": [
       "3.0"
      ]
     },
     "execution_count": 132,
     "metadata": {},
     "output_type": "execute_result"
    }
   ],
   "source": [
    "np.floor(3.9)"
   ]
  },
  {
   "cell_type": "code",
   "execution_count": 108,
   "metadata": {},
   "outputs": [
    {
     "name": "stdout",
     "output_type": "stream",
     "text": [
      "2.387324e+10\n"
     ]
    }
   ],
   "source": [
    "print('{:e}'.format(3*6e14/(4*np.pi*6e3)))"
   ]
  },
  {
   "cell_type": "code",
   "execution_count": 112,
   "metadata": {},
   "outputs": [
    {
     "data": {
      "text/plain": [
       "620.3504908993998"
      ]
     },
     "execution_count": 112,
     "metadata": {},
     "output_type": "execute_result"
    }
   ],
   "source": [
    "(3*6e12/(4*np.pi*6e3))**(1/3)"
   ]
  },
  {
   "cell_type": "code",
   "execution_count": 115,
   "metadata": {},
   "outputs": [
    {
     "name": "stdout",
     "output_type": "stream",
     "text": [
      "2.513274e+19\n"
     ]
    }
   ],
   "source": [
    "print('{:e}'.format(4*6e3*(1e5)**3*np.pi/3))"
   ]
  },
  {
   "cell_type": "code",
   "execution_count": 117,
   "metadata": {},
   "outputs": [
    {
     "data": {
      "text/plain": [
       "4.166666666666667e-06"
      ]
     },
     "execution_count": 117,
     "metadata": {},
     "output_type": "execute_result"
    }
   ],
   "source": [
    "2.5e19/6e24"
   ]
  },
  {
   "cell_type": "code",
   "execution_count": 118,
   "metadata": {},
   "outputs": [
    {
     "data": {
      "text/plain": [
       "0.6020599913279624"
      ]
     },
     "execution_count": 118,
     "metadata": {},
     "output_type": "execute_result"
    }
   ],
   "source": [
    "np.log10(4)"
   ]
  },
  {
   "cell_type": "code",
   "execution_count": 121,
   "metadata": {},
   "outputs": [
    {
     "data": {
      "text/plain": [
       "5.011872336272725e-06"
      ]
     },
     "execution_count": 121,
     "metadata": {},
     "output_type": "execute_result"
    }
   ],
   "source": [
    "10**-5.3"
   ]
  },
  {
   "cell_type": "code",
   "execution_count": 139,
   "metadata": {},
   "outputs": [
    {
     "data": {
      "text/plain": [
       "-8.15606264108121"
      ]
     },
     "execution_count": 139,
     "metadata": {},
     "output_type": "execute_result"
    }
   ],
   "source": [
    "np.log10(4*np.pi*1e3*1e9*1e4/3/6e24)"
   ]
  },
  {
   "cell_type": "code",
   "execution_count": 142,
   "metadata": {},
   "outputs": [
    {
     "data": {
      "text/plain": [
       "5.026679350401636e-06"
      ]
     },
     "execution_count": 142,
     "metadata": {},
     "output_type": "execute_result"
    }
   ],
   "source": [
    "tracer_masses.min()/6e24"
   ]
  },
  {
   "cell_type": "code",
   "execution_count": 143,
   "metadata": {},
   "outputs": [
    {
     "data": {
      "text/plain": [
       "1140.9992684464844"
      ]
     },
     "execution_count": 143,
     "metadata": {},
     "output_type": "execute_result"
    }
   ],
   "source": [
    "tracer_densities.min()"
   ]
  },
  {
   "cell_type": "code",
   "execution_count": 144,
   "metadata": {},
   "outputs": [
    {
     "data": {
      "text/plain": [
       "1001.4348551489819"
      ]
     },
     "execution_count": 144,
     "metadata": {},
     "output_type": "execute_result"
    }
   ],
   "source": [
    "tracer_radii.min()"
   ]
  },
  {
   "cell_type": "code",
   "execution_count": 145,
   "metadata": {},
   "outputs": [
    {
     "data": {
      "text/plain": [
       "1.3126014394887064"
      ]
     },
     "execution_count": 145,
     "metadata": {},
     "output_type": "execute_result"
    }
   ],
   "source": [
    "3*tracer_masses.min()/(4*np.pi*tracer_densities.max()*tracer_radii.max()**3)"
   ]
  },
  {
   "cell_type": "code",
   "execution_count": null,
   "metadata": {},
   "outputs": [],
   "source": []
  }
 ],
 "metadata": {
  "kernelspec": {
   "display_name": "Python 3",
   "language": "python",
   "name": "python3"
  },
  "language_info": {
   "codemirror_mode": {
    "name": "ipython",
    "version": 3
   },
   "file_extension": ".py",
   "mimetype": "text/x-python",
   "name": "python",
   "nbconvert_exporter": "python",
   "pygments_lexer": "ipython3",
   "version": "3.7.0"
  }
 },
 "nbformat": 4,
 "nbformat_minor": 2
}
